{
 "cells": [
  {
   "attachments": {},
   "cell_type": "markdown",
   "metadata": {},
   "source": [
    "# Demonstration of figure finder\n",
    "## Before starting make sure that you have set the path where you want to dump all the figures (in shell/ff_setup, FIGURE_DUMP=\"your/path/here\") and run the setup script to install it: by running\n",
    "> bash shell/ff_setup setup\n"
   ]
  },
  {
   "cell_type": "code",
   "execution_count": 12,
   "metadata": {},
   "outputs": [
    {
     "name": "stdout",
     "output_type": "stream",
     "text": [
      "The autoreload extension is already loaded. To reload it, use:\n",
      "  %reload_ext autoreload\n"
     ]
    }
   ],
   "source": [
    "%load_ext autoreload\n",
    "%autoreload 2\n",
    "\n",
    "import numpy as np\n",
    "import matplotlib.pyplot as plt\n",
    "import os\n",
    "import figure_finder as ff\n",
    "\n"
   ]
  },
  {
   "cell_type": "code",
   "execution_count": null,
   "metadata": {},
   "outputs": [],
   "source": []
  },
  {
   "cell_type": "code",
   "execution_count": 19,
   "metadata": {},
   "outputs": [
    {
     "name": "stdout",
     "output_type": "stream",
     "text": [
      "FOLDER ALREADY EXISTS!\n",
      "Overwriting\n",
      "deleting eg_report\n",
      "Making folder\n"
     ]
    },
    {
     "name": "stderr",
     "output_type": "stream",
     "text": [
      "/data1/projects/dumoulinlab/Lab_members/Marcus/programs/figure_finder/figure_finder/report_db_tools.py:87: SettingWithCopyWarning: \n",
      "A value is trying to be set on a copy of a slice from a DataFrame\n",
      "\n",
      "See the caveats in the documentation: https://pandas.pydata.org/pandas-docs/stable/user_guide/indexing.html#returning-a-view-versus-a-copy\n",
      "  report_db['tags'][i] = listish_str_to_list(report_db['tags'][i])\n",
      "Missing chrome or resource URL: resource://gre/modules/UpdateListener.jsm\n",
      "Missing chrome or resource URL: resource://gre/modules/UpdateListener.sys.mjs\n",
      "Missing chrome or resource URL: resource://gre/modules/UpdateListener.jsm\n",
      "Missing chrome or resource URL: resource://gre/modules/UpdateListener.sys.mjs\n"
     ]
    },
    {
     "data": {
      "image/png": "[encoded data removed]",
      "text/plain": [
       "<Figure size 432x288 with 1 Axes>"
      ]
     },
     "metadata": {
      "needs_background": "light"
     },
     "output_type": "display_data"
    }
   ],
   "source": [
    "ff_Report = ff.ReportMaker('eg_report', '/data1/projects/dumoulinlab/Lab_members/Marcus/programs/figure_finder')\n",
    "with ff_Report:\n",
    "    ff_Report.add_title('Blah level 1', level=1)\n",
    "    ff_Report.add_title('Blah level 2', level=2)\n",
    "    ff_Report.add_text('''Generic description doo doo doo hello \n",
    "    Now we can save the figure in the fig_dump folder\n",
    "    >> we can specify the name of the file (or ff will extract the title from the figure). \n",
    "    We can also specify the tags we want to save with this fig. ff will automatically find *any* text in the fig (legend, axes, text) and \n",
    "    scrape these to include in the tags (so don't worry too much)\n",
    "    Figure name & the date will also be saved as tags\n",
    "    >> First we will save this to our local folder''')\n",
    "    # now add the image\n",
    "    x = np.random.random(100)\n",
    "    y = np.random.random(100)\n",
    "    plt.scatter(x,y, label='sub01')\n",
    "    plt.xlabel('bloop')\n",
    "    plt.ylabel('bleep')\n",
    "    plt.title('Comparing ')\n",
    "    plt.text(1,.5, 'interesting text')\n",
    "    plt.legend()\n",
    "    fig = plt.gcf()\n",
    "    fig.suptitle('Something else')\n",
    "    ff_Report.add_img(fig)\n",
    "    ff_Report.save_html()"
   ]
  },
  {
   "attachments": {},
   "cell_type": "markdown",
   "metadata": {},
   "source": [
    "First - lets make some figures and save them in the figure dump folder"
   ]
  },
  {
   "cell_type": "code",
   "execution_count": 20,
   "metadata": {},
   "outputs": [
    {
     "name": "stdout",
     "output_type": "stream",
     "text": [
      "scatter-demo already exists...\n",
      "Overwrite ? (\"o\")\n",
      "Skip ? (\"s\")\n",
      "Save copy with date ? (\"d\")\n",
      "To automatically choose one of these options edit \"fig_overwrite\" argument in utils.save_figure_with_tags\n",
      "deleting scatter-demo\n",
      "Inserting info into svg file\n"
     ]
    },
    {
     "data": {
      "text/plain": [
       "{'name': 'scatter-demo',\n",
       " 'date': '2023-05-28_18-42-20',\n",
       " 'path': '/data1/projects/dumoulinlab/Lab_members/Marcus/programs/figure_finder/scatter-demo',\n",
       " 'tags': ['2023-05-28_18-42-20',\n",
       "  'Comparing',\n",
       "  'text',\n",
       "  'sub01',\n",
       "  '0.4',\n",
       "  '0.0',\n",
       "  'else',\n",
       "  'interesting',\n",
       "  'bleep',\n",
       "  'Something',\n",
       "  '0.8',\n",
       "  'optional-tags',\n",
       "  '1.0',\n",
       "  '2023-05-28T18:42:25.590776',\n",
       "  'bloop',\n",
       "  '0.2',\n",
       "  'scatter-demo',\n",
       "  '0.6'],\n",
       " 'cwd': '/data1/projects/dumoulinlab/Lab_members/Marcus/programs/figure_finder',\n",
       " 'nb_path': '/data1/projects/dumoulinlab/Lab_members/Marcus/programs/figure_finder/example.ipynb'}"
      ]
     },
     "execution_count": 20,
     "metadata": {},
     "output_type": "execute_result"
    },
    {
     "data": {
      "image/png": "[encoded data removed]",
      "text/plain": [
       "<Figure size 432x288 with 1 Axes>"
      ]
     },
     "metadata": {
      "needs_background": "light"
     },
     "output_type": "display_data"
    }
   ],
   "source": [
    "# scatter demo \n",
    "x = np.random.random(100)\n",
    "y = np.random.random(100)\n",
    "plt.scatter(x,y, label='sub01')\n",
    "plt.xlabel('bloop')\n",
    "plt.ylabel('bleep')\n",
    "plt.title('Comparing ')\n",
    "plt.text(1,.5, 'interesting text')\n",
    "plt.legend()\n",
    "fig = plt.gcf()\n",
    "fig.suptitle('Something else')\n",
    "\n",
    "\n",
    "# Now we can save the figure in the fig_dump folder\n",
    "# >> we can specify the name of the file (or ff will extract the title from the figure). \n",
    "# We can also specify the tags we want to save with this fig. ff will automatically find *any* text in the fig (legend, axes, text) and \n",
    "# scrape these to include in the tags (so don't worry too much)\n",
    "# Figure name & the date will also be saved as tags\n",
    "# >> First we will save this to our local folder \n",
    "ff.FIG_save_fig_and_code_as_svg(fig, fig_name='scatter-demo', fig_tags=['optional-tags'], save_folder=os.getcwd())\n"
   ]
  },
  {
   "attachments": {},
   "cell_type": "markdown",
   "metadata": {},
   "source": [
    "Now check open the SVG file (scatter-demo.svg) using a text editor - you should be able to see all the extra information has been added\n",
    "Look under \n",
    "\n",
    "*********** START - info inserted by figure finder ********\n",
    "\n",
    "The text file also contains the code from the cell which made this figure"
   ]
  },
  {
   "cell_type": "code",
   "execution_count": 21,
   "metadata": {},
   "outputs": [
    {
     "name": "stdout",
     "output_type": "stream",
     "text": [
      "line-demo already exists...\n",
      "Overwrite ? (\"o\")\n",
      "Skip ? (\"s\")\n",
      "Save copy with date ? (\"d\")\n",
      "To automatically choose one of these options edit \"fig_overwrite\" argument in utils.save_figure_with_tags\n",
      "Adding date to fig name to remove conflict...\n",
      "Inserting info into svg file\n"
     ]
    },
    {
     "data": {
      "text/plain": [
       "{'name': 'line-demo_2023-05-28_18-42-31',\n",
       " 'date': '2023-05-28_18-42-31',\n",
       " 'path': '/data1/projects/dumoulinlab/Lab_members/Marcus/programs/figure_dump/line-demo_2023-05-28_18-42-31',\n",
       " 'tags': ['tock',\n",
       "  'text',\n",
       "  'Something',\n",
       "  'line-demo',\n",
       "  '2023-05-28_18-42-31',\n",
       "  '0.4',\n",
       "  'line-demo_2023-05-28_18-42-31',\n",
       "  '0.6',\n",
       "  'interesting',\n",
       "  '2023-05-28T18:23:32.406666',\n",
       "  'tick',\n",
       "  '2023-05-28_18-23-32',\n",
       "  'here',\n",
       "  'sub02',\n",
       "  '0.0',\n",
       "  'else',\n",
       "  '0.8',\n",
       "  '1.0',\n",
       "  '2023-05-28T18:42:33.170197',\n",
       "  '0.2'],\n",
       " 'cwd': '/data1/projects/dumoulinlab/Lab_members/Marcus/programs/figure_finder',\n",
       " 'nb_path': '/data1/projects/dumoulinlab/Lab_members/Marcus/programs/figure_finder/example.ipynb'}"
      ]
     },
     "execution_count": 21,
     "metadata": {},
     "output_type": "execute_result"
    },
    {
     "data": {
      "image/png": "[encoded data removed]",
      "text/plain": [
       "<Figure size 432x288 with 1 Axes>"
      ]
     },
     "metadata": {
      "needs_background": "light"
     },
     "output_type": "display_data"
    }
   ],
   "source": [
    "# Now lets save another figure.\n",
    "\n",
    "# Make line demo \n",
    "x = np.linspace(0,1, 100)\n",
    "y = np.random.random(100)\n",
    "plt.plot(x,y, label='sub02')\n",
    "plt.xlabel('tick')\n",
    "plt.ylabel('tock')\n",
    "plt.title('here ')\n",
    "plt.text(1,.5, 'interesting text')\n",
    "plt.legend()\n",
    "fig = plt.gcf()\n",
    "fig.suptitle('Something else')\n",
    "\n",
    "ff.FIG_save_fig_and_code_as_svg(fig, fig_name='line-demo')\n",
    "# This time we haven't specified where the figure is going -> so it will be put in the figure dump folder...\n"
   ]
  },
  {
   "attachments": {},
   "cell_type": "markdown",
   "metadata": {},
   "source": [
    "# Database functions \n",
    "## We now have 2 figures which have been saved using figure_finder. We can access them in the csv database (stored in figure_dump)\n"
   ]
  },
  {
   "cell_type": "code",
   "execution_count": 22,
   "metadata": {},
   "outputs": [
    {
     "data": {
      "text/html": [
       "<div>\n",
       "<style scoped>\n",
       "    .dataframe tbody tr th:only-of-type {\n",
       "        vertical-align: middle;\n",
       "    }\n",
       "\n",
       "    .dataframe tbody tr th {\n",
       "        vertical-align: top;\n",
       "    }\n",
       "\n",
       "    .dataframe thead th {\n",
       "        text-align: right;\n",
       "    }\n",
       "</style>\n",
       "<table border=\"1\" class=\"dataframe\">\n",
       "  <thead>\n",
       "    <tr style=\"text-align: right;\">\n",
       "      <th></th>\n",
       "      <th>name</th>\n",
       "      <th>date</th>\n",
       "      <th>path</th>\n",
       "      <th>tags</th>\n",
       "      <th>cwd</th>\n",
       "      <th>nb_path</th>\n",
       "    </tr>\n",
       "  </thead>\n",
       "  <tbody>\n",
       "    <tr>\n",
       "      <th>0</th>\n",
       "      <td>line-demo_2023-05-28_18-42-31</td>\n",
       "      <td>2023-05-28_18-42-31</td>\n",
       "      <td>/data1/projects/dumoulinlab/Lab_members/Marcus...</td>\n",
       "      <td>[tock, text, Something, line-demo, 2023-05-28_...</td>\n",
       "      <td>/data1/projects/dumoulinlab/Lab_members/Marcus...</td>\n",
       "      <td>/data1/projects/dumoulinlab/Lab_members/Marcus...</td>\n",
       "    </tr>\n",
       "    <tr>\n",
       "      <th>1</th>\n",
       "      <td>scatter-demo</td>\n",
       "      <td>2023-05-28_18-42-20</td>\n",
       "      <td>/data1/projects/dumoulinlab/Lab_members/Marcus...</td>\n",
       "      <td>[2023-05-28_18-42-20, Comparing, text, sub01, ...</td>\n",
       "      <td>/data1/projects/dumoulinlab/Lab_members/Marcus...</td>\n",
       "      <td>/data1/projects/dumoulinlab/Lab_members/Marcus...</td>\n",
       "    </tr>\n",
       "    <tr>\n",
       "      <th>2</th>\n",
       "      <td>fig000_Something_else</td>\n",
       "      <td>2023-05-28_18-41-55</td>\n",
       "      <td>/data1/projects/dumoulinlab/Lab_members/Marcus...</td>\n",
       "      <td>[text, Something, bleep, oDyEHE, eg_report, 20...</td>\n",
       "      <td>/data1/projects/dumoulinlab/Lab_members/Marcus...</td>\n",
       "      <td>/data1/projects/dumoulinlab/Lab_members/Marcus...</td>\n",
       "    </tr>\n",
       "    <tr>\n",
       "      <th>3</th>\n",
       "      <td>fig000_Something_else</td>\n",
       "      <td>2023-05-28_18-39-11</td>\n",
       "      <td>/data1/projects/dumoulinlab/Lab_members/Marcus...</td>\n",
       "      <td>[text, Something, bleep, HuCJGs, eg_report, 0....</td>\n",
       "      <td>/data1/projects/dumoulinlab/Lab_members/Marcus...</td>\n",
       "      <td>/data1/projects/dumoulinlab/Lab_members/Marcus...</td>\n",
       "    </tr>\n",
       "    <tr>\n",
       "      <th>4</th>\n",
       "      <td>line-demo</td>\n",
       "      <td>2023-05-28_18-23-32</td>\n",
       "      <td>/data1/projects/dumoulinlab/Lab_members/Marcus...</td>\n",
       "      <td>[tock, tick, text, 0.4, 0.0, else, interesting...</td>\n",
       "      <td>/data1/projects/dumoulinlab/Lab_members/Marcus...</td>\n",
       "      <td>/data1/projects/dumoulinlab/Lab_members/Marcus...</td>\n",
       "    </tr>\n",
       "  </tbody>\n",
       "</table>\n",
       "</div>"
      ],
      "text/plain": [
       "                            name                 date  \\\n",
       "0  line-demo_2023-05-28_18-42-31  2023-05-28_18-42-31   \n",
       "1                   scatter-demo  2023-05-28_18-42-20   \n",
       "2          fig000_Something_else  2023-05-28_18-41-55   \n",
       "3          fig000_Something_else  2023-05-28_18-39-11   \n",
       "4                      line-demo  2023-05-28_18-23-32   \n",
       "\n",
       "                                                path  \\\n",
       "0  /data1/projects/dumoulinlab/Lab_members/Marcus...   \n",
       "1  /data1/projects/dumoulinlab/Lab_members/Marcus...   \n",
       "2  /data1/projects/dumoulinlab/Lab_members/Marcus...   \n",
       "3  /data1/projects/dumoulinlab/Lab_members/Marcus...   \n",
       "4  /data1/projects/dumoulinlab/Lab_members/Marcus...   \n",
       "\n",
       "                                                tags  \\\n",
       "0  [tock, text, Something, line-demo, 2023-05-28_...   \n",
       "1  [2023-05-28_18-42-20, Comparing, text, sub01, ...   \n",
       "2  [text, Something, bleep, oDyEHE, eg_report, 20...   \n",
       "3  [text, Something, bleep, HuCJGs, eg_report, 0....   \n",
       "4  [tock, tick, text, 0.4, 0.0, else, interesting...   \n",
       "\n",
       "                                                 cwd  \\\n",
       "0  /data1/projects/dumoulinlab/Lab_members/Marcus...   \n",
       "1  /data1/projects/dumoulinlab/Lab_members/Marcus...   \n",
       "2  /data1/projects/dumoulinlab/Lab_members/Marcus...   \n",
       "3  /data1/projects/dumoulinlab/Lab_members/Marcus...   \n",
       "4  /data1/projects/dumoulinlab/Lab_members/Marcus...   \n",
       "\n",
       "                                             nb_path  \n",
       "0  /data1/projects/dumoulinlab/Lab_members/Marcus...  \n",
       "1  /data1/projects/dumoulinlab/Lab_members/Marcus...  \n",
       "2  /data1/projects/dumoulinlab/Lab_members/Marcus...  \n",
       "3  /data1/projects/dumoulinlab/Lab_members/Marcus...  \n",
       "4  /data1/projects/dumoulinlab/Lab_members/Marcus...  "
      ]
     },
     "execution_count": 22,
     "metadata": {},
     "output_type": "execute_result"
    }
   ],
   "source": [
    "# Figure database is a csv folder inside the figure dump folder\n",
    "# > we can load this and look at the entries\n",
    "fig_db = ff.FIG_load_figure_db()\n",
    "fig_name_list = fig_db.name.copy()\n",
    "fig_db['path'][1]\n",
    "fig_db\n",
    "# for i, this_fig in enumerate(fig_name_list):\n",
    "#     print(this_fig)\n",
    "\n",
    "# bb = [0,2]\n",
    "# z = fig_db.loc[bb].copy()\n"
   ]
  },
  {
   "cell_type": "code",
   "execution_count": null,
   "metadata": {},
   "outputs": [],
   "source": [
    "ff.FIG_remove_fig_with_tags('')"
   ]
  },
  {
   "cell_type": "code",
   "execution_count": null,
   "metadata": {},
   "outputs": [],
   "source": [
    "ff.FIG_clean_csv()"
   ]
  },
  {
   "attachments": {},
   "cell_type": "markdown",
   "metadata": {},
   "source": [
    "fig_db is a list of dictionaries, with each entry in the list corresponding to a particular figure\n",
    "Each figure has the:\n",
    "* 'date' : date that fig was saved\n",
    "* 'name' : name of the file\n",
    "* 'path' : path to the fig (.png file)\n",
    "* 'tags' : tags - those extracted from the fig, also those which the user specified before hand. these can be used to search for your figures, (both inclusive & exclusive)\n",
    "* 'cwd' : the directory where the fig was generated \n",
    "* 'nb_path' : the notebook where the figure was generated\n",
    "\n"
   ]
  },
  {
   "cell_type": "code",
   "execution_count": null,
   "metadata": {},
   "outputs": [],
   "source": [
    "# You can see that all the text in the figure has been extracted and saved as tags...\n",
    "print(fig_db[0]['tags'])\n",
    "# We can use these tags to search for the figure"
   ]
  },
  {
   "cell_type": "code",
   "execution_count": null,
   "metadata": {},
   "outputs": [],
   "source": [
    "# Now a demo search for a figure...\n",
    "# both figures had the text \"interesting text\" - so if we search for this 2 entries come up\n",
    "match_fig = ff.find_fig_with_tags(['interesting'])\n",
    "print(f'Found {len(match_fig)} matching figures...')"
   ]
  },
  {
   "cell_type": "code",
   "execution_count": null,
   "metadata": {},
   "outputs": [],
   "source": [
    "opj = os.path.join\n",
    "figure_dump = os.environ['FIG_DUMP']\n",
    "fig_tag_file = opj(figure_dump, 'fig_tag_file.csv') # path to figure data base\n",
    "figure_dump_bin = opj(figure_dump, 'recycle_bin')   # path to bin - this is where deleted files will be backed up\n",
    "\n",
    "import pandas as pd\n",
    "\n",
    "a = pd.read_csv(fig_tag_file).to_dict('index')\n",
    "b = pd.read_csv(fig_tag_file)\n"
   ]
  },
  {
   "cell_type": "code",
   "execution_count": null,
   "metadata": {},
   "outputs": [],
   "source": [
    "b['tags'][0]"
   ]
  },
  {
   "cell_type": "code",
   "execution_count": null,
   "metadata": {},
   "outputs": [],
   "source": [
    "b = pd.DataFrame(a).T\n",
    "b"
   ]
  },
  {
   "cell_type": "code",
   "execution_count": null,
   "metadata": {},
   "outputs": [],
   "source": [
    "b['name']"
   ]
  },
  {
   "cell_type": "code",
   "execution_count": null,
   "metadata": {},
   "outputs": [],
   "source": [
    "[a['name'][i] for i in range(len(a))]"
   ]
  },
  {
   "cell_type": "code",
   "execution_count": null,
   "metadata": {},
   "outputs": [],
   "source": [
    "# we can refine the search using more tags\n",
    "match_fig = ff.find_fig_with_tags(['interesting', 'scatter'])\n",
    "print(f'Found {len(match_fig)} matching figures...')\n",
    "\n",
    "# we can see the matching figure is the scatter plot... \n",
    "print(match_fig[0]['name'])\n"
   ]
  },
  {
   "cell_type": "code",
   "execution_count": null,
   "metadata": {},
   "outputs": [],
   "source": [
    "# OR we can refine the search using by excluding certain tags\n",
    "match_fig = ff.find_fig_with_tags(['interesting'], exclude=['scatter'])\n",
    "print(f'Found {len(match_fig)} matching figures...')\n",
    "\n",
    "# we can see the matching figure is NOT the scatter plot... \n",
    "print(match_fig[0]['name'])\n"
   ]
  },
  {
   "attachments": {},
   "cell_type": "markdown",
   "metadata": {},
   "source": [
    "The tags can be any text which is present in the figure (or which was specified)\n",
    "It can also be the date "
   ]
  },
  {
   "cell_type": "code",
   "execution_count": null,
   "metadata": {},
   "outputs": [],
   "source": [
    "# We can find  out more about the matching figure in from the entries in the db (e.g., looking at name, date, nb_path)\n",
    "# Or we can simply load the figure, using the same search terms \n",
    "ff.show_fig_with_tags(['interesting'], exclude=['scatter'])\n",
    "\n",
    "# For more detail we can print the code which was used to generate this figure...\n",
    "ff.print_matching_code_file(['interesting'], exclude=['scatter'])"
   ]
  },
  {
   "attachments": {},
   "cell_type": "markdown",
   "metadata": {},
   "source": [
    "Note - if you try and save a figure with the same name, then it will ask you whether you want to overwrite ('o'), skip ('s') or append the date to the file name. \n",
    "You can edit the function so that it doen't ask you every time"
   ]
  },
  {
   "cell_type": "code",
   "execution_count": null,
   "metadata": {},
   "outputs": [],
   "source": [
    "# scatter demo \n",
    "x = np.linspace(0,1, 100)\n",
    "y = np.random.random(100)\n",
    "plt.plot(x,y, label='sub02')\n",
    "plt.xlabel('tick')\n",
    "plt.ylabel('tock')\n",
    "plt.title('here ')\n",
    "plt.text(1,.5, 'interesting text')\n",
    "plt.legend()\n",
    "fig = plt.gcf()\n",
    "fig.suptitle('Something else')\n",
    "\n",
    "ff.save_fig_and_code_as_svg(fig, fig_name='line-demo')# SAME NAME AS BEFORE...\n",
    "\n",
    "# Best practice is probably to specify a new name - but this still works...."
   ]
  },
  {
   "attachments": {},
   "cell_type": "markdown",
   "metadata": {},
   "source": [
    "You can also remove entries using the function below...\n",
    "# NOTE DO THIS AT YOUR OWN RISK -> I HAVEN'T THOROUGHLY TESTED THIS..."
   ]
  },
  {
   "cell_type": "code",
   "execution_count": null,
   "metadata": {},
   "outputs": [],
   "source": [
    "ff.remove_fig_with_tags('scatter-demo')"
   ]
  },
  {
   "cell_type": "code",
   "execution_count": null,
   "metadata": {},
   "outputs": [],
   "source": []
  }
 ],
 "metadata": {
  "kernelspec": {
   "display_name": "Python 3.9.10 ('ls_clone')",
   "language": "python",
   "name": "python3"
  },
  "language_info": {
   "codemirror_mode": {
    "name": "ipython",
    "version": 3
   },
   "file_extension": ".py",
   "mimetype": "text/x-python",
   "name": "python",
   "nbconvert_exporter": "python",
   "pygments_lexer": "ipython3",
   "version": "3.9.10"
  },
  "orig_nbformat": 4,
  "vscode": {
   "interpreter": {
    "hash": "fefbee0ec0d090ddecc6c29861c732920c34a22382341b631cd31e17c9e85bbf"
   }
  }
 },
 "nbformat": 4,
 "nbformat_minor": 2
}
