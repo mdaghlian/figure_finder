{
 "cells": [
  {
   "attachments": {},
   "cell_type": "markdown",
   "metadata": {},
   "source": [
    "# Demonstration of figure finder\n",
    "## Before starting make sure that you have set the path where you want to dump all the figures (in shell/ff_setup, FIGURE_DUMP=\"your/path/here\") and run the setup script to install it: by running\n",
    "> bash shell/ff_setup setup\n"
   ]
  },
  {
   "cell_type": "code",
   "execution_count": 2,
   "metadata": {},
   "outputs": [
    {
     "name": "stdout",
     "output_type": "stream",
     "text": [
      "The autoreload extension is already loaded. To reload it, use:\n",
      "  %reload_ext autoreload\n"
     ]
    }
   ],
   "source": [
    "%load_ext autoreload\n",
    "%autoreload 2\n",
    "\n",
    "import numpy as np\n",
    "import matplotlib.pyplot as plt\n",
    "import os\n",
    "import figure_finder as ff\n",
    "\n"
   ]
  },
  {
   "cell_type": "code",
   "execution_count": 74,
   "metadata": {},
   "outputs": [
    {
     "ename": "ValueError",
     "evalue": "Unable to coerce to Series, length must be 6: given 0",
     "output_type": "error",
     "traceback": [
      "\u001b[0;31m---------------------------------------------------------------------------\u001b[0m",
      "\u001b[0;31mValueError\u001b[0m                                Traceback (most recent call last)",
      "Cell \u001b[0;32mIn[74], line 1\u001b[0m\n\u001b[0;32m----> 1\u001b[0m ff\u001b[39m.\u001b[39;49mFIG_clean_csv()\n",
      "File \u001b[0;32m/data1/projects/dumoulinlab/Lab_members/Marcus/programs/figure_finder/figure_finder/figure_db_tools.py:581\u001b[0m, in \u001b[0;36mFIG_clean_csv\u001b[0;34m()\u001b[0m\n\u001b[1;32m    579\u001b[0m     \u001b[39mreturn\u001b[39;00m\n\u001b[1;32m    580\u001b[0m figure_db \u001b[39m=\u001b[39m FIG_load_figure_db()\n\u001b[0;32m--> 581\u001b[0m \u001b[39mif\u001b[39;00m figure_db\u001b[39m==\u001b[39;49m[]:\n\u001b[1;32m    582\u001b[0m     \u001b[39mprint\u001b[39m(\u001b[39m'\u001b[39m\u001b[39mFigure finder: Database is empty\u001b[39m\u001b[39m'\u001b[39m)\n\u001b[1;32m    583\u001b[0m     \u001b[39mreturn\u001b[39;00m\n",
      "File \u001b[0;32m~/.conda/envs/ls_dag/lib/python3.9/site-packages/pandas/core/ops/common.py:70\u001b[0m, in \u001b[0;36m_unpack_zerodim_and_defer.<locals>.new_method\u001b[0;34m(self, other)\u001b[0m\n\u001b[1;32m     66\u001b[0m             \u001b[39mreturn\u001b[39;00m \u001b[39mNotImplemented\u001b[39m\n\u001b[1;32m     68\u001b[0m other \u001b[39m=\u001b[39m item_from_zerodim(other)\n\u001b[0;32m---> 70\u001b[0m \u001b[39mreturn\u001b[39;00m method(\u001b[39mself\u001b[39;49m, other)\n",
      "File \u001b[0;32m~/.conda/envs/ls_dag/lib/python3.9/site-packages/pandas/core/arraylike.py:40\u001b[0m, in \u001b[0;36mOpsMixin.__eq__\u001b[0;34m(self, other)\u001b[0m\n\u001b[1;32m     38\u001b[0m \u001b[39m@unpack_zerodim_and_defer\u001b[39m(\u001b[39m\"\u001b[39m\u001b[39m__eq__\u001b[39m\u001b[39m\"\u001b[39m)\n\u001b[1;32m     39\u001b[0m \u001b[39mdef\u001b[39;00m \u001b[39m__eq__\u001b[39m(\u001b[39mself\u001b[39m, other):\n\u001b[0;32m---> 40\u001b[0m     \u001b[39mreturn\u001b[39;00m \u001b[39mself\u001b[39;49m\u001b[39m.\u001b[39;49m_cmp_method(other, operator\u001b[39m.\u001b[39;49meq)\n",
      "File \u001b[0;32m~/.conda/envs/ls_dag/lib/python3.9/site-packages/pandas/core/frame.py:6925\u001b[0m, in \u001b[0;36mDataFrame._cmp_method\u001b[0;34m(self, other, op)\u001b[0m\n\u001b[1;32m   6922\u001b[0m \u001b[39mdef\u001b[39;00m \u001b[39m_cmp_method\u001b[39m(\u001b[39mself\u001b[39m, other, op):\n\u001b[1;32m   6923\u001b[0m     axis \u001b[39m=\u001b[39m \u001b[39m1\u001b[39m  \u001b[39m# only relevant for Series other case\u001b[39;00m\n\u001b[0;32m-> 6925\u001b[0m     \u001b[39mself\u001b[39m, other \u001b[39m=\u001b[39m ops\u001b[39m.\u001b[39;49malign_method_FRAME(\u001b[39mself\u001b[39;49m, other, axis, flex\u001b[39m=\u001b[39;49m\u001b[39mFalse\u001b[39;49;00m, level\u001b[39m=\u001b[39;49m\u001b[39mNone\u001b[39;49;00m)\n\u001b[1;32m   6927\u001b[0m     \u001b[39m# See GH#4537 for discussion of scalar op behavior\u001b[39;00m\n\u001b[1;32m   6928\u001b[0m     new_data \u001b[39m=\u001b[39m \u001b[39mself\u001b[39m\u001b[39m.\u001b[39m_dispatch_frame_op(other, op, axis\u001b[39m=\u001b[39maxis)\n",
      "File \u001b[0;32m~/.conda/envs/ls_dag/lib/python3.9/site-packages/pandas/core/ops/__init__.py:282\u001b[0m, in \u001b[0;36malign_method_FRAME\u001b[0;34m(left, right, axis, flex, level)\u001b[0m\n\u001b[1;32m    278\u001b[0m         \u001b[39mraise\u001b[39;00m \u001b[39mValueError\u001b[39;00m(\n\u001b[1;32m    279\u001b[0m             \u001b[39mf\u001b[39m\u001b[39m\"\u001b[39m\u001b[39mUnable to coerce list of \u001b[39m\u001b[39m{\u001b[39;00m\u001b[39mtype\u001b[39m(right[\u001b[39m0\u001b[39m])\u001b[39m}\u001b[39;00m\u001b[39m to Series/DataFrame\u001b[39m\u001b[39m\"\u001b[39m\n\u001b[1;32m    280\u001b[0m         )\n\u001b[1;32m    281\u001b[0m     \u001b[39m# GH17901\u001b[39;00m\n\u001b[0;32m--> 282\u001b[0m     right \u001b[39m=\u001b[39m to_series(right)\n\u001b[1;32m    284\u001b[0m \u001b[39mif\u001b[39;00m flex \u001b[39mis\u001b[39;00m \u001b[39mnot\u001b[39;00m \u001b[39mNone\u001b[39;00m \u001b[39mand\u001b[39;00m \u001b[39misinstance\u001b[39m(right, ABCDataFrame):\n\u001b[1;32m    285\u001b[0m     \u001b[39mif\u001b[39;00m \u001b[39mnot\u001b[39;00m left\u001b[39m.\u001b[39m_indexed_same(right):\n",
      "File \u001b[0;32m~/.conda/envs/ls_dag/lib/python3.9/site-packages/pandas/core/ops/__init__.py:239\u001b[0m, in \u001b[0;36malign_method_FRAME.<locals>.to_series\u001b[0;34m(right)\u001b[0m\n\u001b[1;32m    237\u001b[0m \u001b[39melse\u001b[39;00m:\n\u001b[1;32m    238\u001b[0m     \u001b[39mif\u001b[39;00m \u001b[39mlen\u001b[39m(left\u001b[39m.\u001b[39mcolumns) \u001b[39m!=\u001b[39m \u001b[39mlen\u001b[39m(right):\n\u001b[0;32m--> 239\u001b[0m         \u001b[39mraise\u001b[39;00m \u001b[39mValueError\u001b[39;00m(\n\u001b[1;32m    240\u001b[0m             msg\u001b[39m.\u001b[39mformat(req_len\u001b[39m=\u001b[39m\u001b[39mlen\u001b[39m(left\u001b[39m.\u001b[39mcolumns), given_len\u001b[39m=\u001b[39m\u001b[39mlen\u001b[39m(right))\n\u001b[1;32m    241\u001b[0m         )\n\u001b[1;32m    242\u001b[0m     right \u001b[39m=\u001b[39m left\u001b[39m.\u001b[39m_constructor_sliced(right, index\u001b[39m=\u001b[39mleft\u001b[39m.\u001b[39mcolumns)\n\u001b[1;32m    243\u001b[0m \u001b[39mreturn\u001b[39;00m right\n",
      "\u001b[0;31mValueError\u001b[0m: Unable to coerce to Series, length must be 6: given 0"
     ]
    }
   ],
   "source": []
  },
  {
   "cell_type": "code",
   "execution_count": 3,
   "metadata": {},
   "outputs": [
    {
     "name": "stdout",
     "output_type": "stream",
     "text": [
      "Making folder\n",
      "Blah level 1\n",
      "Blah level 2\n",
      "Generic description doo doo doo hello \n",
      "Now we can save the figure in the fig_dump folder\n",
      ">> we can specify the name of the file (or ff will extract the title from the figure). \n",
      "We can also specify the tags we want to save with this fig. ff will automatically find *any* text in the fig (legend, axes, text) and \n",
      "scrape these to include in the tags (so don't worry too much)\n",
      "Figure name & the date will also be saved as tags\n",
      ">> First we will save this to our local folder\n",
      "XOiunr_fig000_Something_else\n",
      "Figure(432x288)\n",
      "Inserting info into svg file\n",
      "{'name': 'XOiunr_fig000_Something_else', 'date': '2023-05-24_15-48-43', 'path': '/data1/projects/dumoulinlab/Lab_members/Marcus/programs/figure_finder/eg_report/images/XOiunr_fig000_Something_else', 'tags': ['1.0', '2023-05-24_15-48-43', '0.0', 'Something', '0.8', 'sub01', 'bloop', '0.4', 'Comparing', 'interesting', '0.2', '2023-05-24T15:48:43.424444', 'eg_report', '0.6', 'bleep', 'XOiunr_fig000_Something_else', 'text', 'else'], 'cwd': '/data1/projects/dumoulinlab/Lab_members/Marcus/programs/figure_finder', 'nb_path': '/data1/projects/dumoulinlab/Lab_members/Marcus/programs/figure_finder/example.ipynb'}\n"
     ]
    },
    {
     "data": {
      "image/png": "[encoded data removed]",
      "text/plain": [
       "<Figure size 432x288 with 1 Axes>"
      ]
     },
     "metadata": {
      "needs_background": "light"
     },
     "output_type": "display_data"
    }
   ],
   "source": [
    "ff_Report = ff.ReportMaker('eg_report', '/data1/projects/dumoulinlab/Lab_members/Marcus/programs/figure_finder')\n",
    "ff_Report.add_title('Blah level 1', level=1)\n",
    "ff_Report.add_title('Blah level 2', level=2)\n",
    "ff_Report.add_text('''Generic description doo doo doo hello \n",
    "Now we can save the figure in the fig_dump folder\n",
    ">> we can specify the name of the file (or ff will extract the title from the figure). \n",
    "We can also specify the tags we want to save with this fig. ff will automatically find *any* text in the fig (legend, axes, text) and \n",
    "scrape these to include in the tags (so don't worry too much)\n",
    "Figure name & the date will also be saved as tags\n",
    ">> First we will save this to our local folder''')\n",
    "# now add the image\n",
    "x = np.random.random(100)\n",
    "y = np.random.random(100)\n",
    "plt.scatter(x,y, label='sub01')\n",
    "plt.xlabel('bloop')\n",
    "plt.ylabel('bleep')\n",
    "plt.title('Comparing ')\n",
    "plt.text(1,.5, 'interesting text')\n",
    "plt.legend()\n",
    "fig = plt.gcf()\n",
    "fig.suptitle('Something else')\n",
    "ff_Report.add_img(fig)\n",
    "ff_Report.save_html()"
   ]
  },
  {
   "cell_type": "code",
   "execution_count": 4,
   "metadata": {},
   "outputs": [
    {
     "data": {
      "text/plain": [
       "['eg',\n",
       " 'report',\n",
       " 'Blah',\n",
       " 'level',\n",
       " '1',\n",
       " 'Blah',\n",
       " 'level',\n",
       " '2',\n",
       " 'Generic',\n",
       " 'description',\n",
       " 'doo',\n",
       " 'doo',\n",
       " 'doo',\n",
       " 'hello',\n",
       " 'Now',\n",
       " 'we',\n",
       " 'can',\n",
       " 'save',\n",
       " 'the',\n",
       " 'figure',\n",
       " 'in',\n",
       " 'the',\n",
       " 'fig',\n",
       " 'dump',\n",
       " 'folder',\n",
       " 'we',\n",
       " 'can',\n",
       " 'specify',\n",
       " 'the',\n",
       " 'name',\n",
       " 'of',\n",
       " 'the',\n",
       " 'file',\n",
       " 'or',\n",
       " 'ff',\n",
       " 'will',\n",
       " 'extract',\n",
       " 'the',\n",
       " 'title',\n",
       " 'from',\n",
       " 'the',\n",
       " 'figure',\n",
       " 'We',\n",
       " 'can',\n",
       " 'also',\n",
       " 'specify',\n",
       " 'the',\n",
       " 'tags',\n",
       " 'we',\n",
       " 'want',\n",
       " 'to',\n",
       " 'save',\n",
       " 'with',\n",
       " 'this',\n",
       " 'fig',\n",
       " 'ff',\n",
       " 'will',\n",
       " 'automatically',\n",
       " 'find',\n",
       " 'any',\n",
       " 'text',\n",
       " 'in',\n",
       " 'the',\n",
       " 'fig',\n",
       " 'legend',\n",
       " 'axes',\n",
       " 'text',\n",
       " 'and',\n",
       " 'scrape',\n",
       " 'these',\n",
       " 'to',\n",
       " 'include',\n",
       " 'in',\n",
       " 'the',\n",
       " 'tags',\n",
       " 'so',\n",
       " 'don',\n",
       " 't',\n",
       " 'worry',\n",
       " 'too',\n",
       " 'much',\n",
       " 'Figure',\n",
       " 'name',\n",
       " 'the',\n",
       " 'date',\n",
       " 'will',\n",
       " 'also',\n",
       " 'be',\n",
       " 'saved',\n",
       " 'as',\n",
       " 'tags',\n",
       " 'First',\n",
       " 'we',\n",
       " 'will',\n",
       " 'save',\n",
       " 'this',\n",
       " 'to',\n",
       " 'our',\n",
       " 'local',\n",
       " 'folder',\n",
       " '1.0',\n",
       " '2023-05-24_15-48-43',\n",
       " '0.0',\n",
       " 'Something',\n",
       " '0.8',\n",
       " 'sub01',\n",
       " 'bloop',\n",
       " '0.4',\n",
       " 'Comparing',\n",
       " 'interesting',\n",
       " '0.2',\n",
       " '2023-05-24T15:48:43.424444',\n",
       " 'eg_report',\n",
       " '0.6',\n",
       " 'bleep',\n",
       " 'XOiunr_fig000_Something_else',\n",
       " 'text',\n",
       " 'else']"
      ]
     },
     "execution_count": 4,
     "metadata": {},
     "output_type": "execute_result"
    }
   ],
   "source": [
    "import re\n",
    "a = ff_Report.txt_doc\n",
    "ff_Report.rep_tags"
   ]
  },
  {
   "cell_type": "code",
   "execution_count": 19,
   "metadata": {},
   "outputs": [
    {
     "data": {
      "text/plain": [
       "\"Blah level 1Blah level 2Generic description doo doo doo hello Now we can save the figure in the fig_dump folder>> we can specify the name of the file (or ff will extract the title from the figure). We can also specify the tags we want to save with this fig. ff will automatically find *any* text in the fig (legend, axes, text) and scrape these to include in the tags (so don't worry too much)Figure name & the date will also be saved as tags>> First we will save this to our local folder\""
      ]
     },
     "execution_count": 19,
     "metadata": {},
     "output_type": "execute_result"
    }
   ],
   "source": [
    "b = re.sub('<[^>]+>', '', a)\n",
    "re.sub('\\n', '', b)"
   ]
  },
  {
   "cell_type": "code",
   "execution_count": 2,
   "metadata": {},
   "outputs": [
    {
     "name": "stdout",
     "output_type": "stream",
     "text": [
      "['2022-09-22_15-03-12', '2022-09-22_15-03-30', '2022-09-22_16-13-29', '2022-09-22_16-13-29', '2022-09-22_16-13-29', '2022-09-22_16-13-39', '2022-09-22_16-13-39', '2022-09-22_16-13-39', '2022-09-22_16-18-33', '2022-09-22_16-20-21', '2022-09-22_16-21-21', '2022-09-22_16-22-59', '2022-09-22_16-23-59', '2022-09-22_16-24-32', '2022-09-22_16-27-11', '2022-09-22_16-27-12', '2022-09-22_16-28-58', '2022-09-22_16-29-01', '2022-09-22_16-30-27', '2022-09-22_16-30-27', '2022-09-22_16-30-58', '2022-09-22_16-31-01', '2022-09-23_09-44-42', '2022-09-23_09-45-11', '2022-09-23_10-06-16', '2022-09-23_10-06-17', '2022-09-23_10-06-59', '2022-09-23_10-06-59', '2022-09-23_10-17-34', '2022-09-23_10-17-37']\n"
     ]
    }
   ],
   "source": [
    "ff.find_fig_by_date()"
   ]
  },
  {
   "attachments": {},
   "cell_type": "markdown",
   "metadata": {},
   "source": [
    "First - lets make some figures and save them in the figure dump folder"
   ]
  },
  {
   "cell_type": "code",
   "execution_count": 114,
   "metadata": {},
   "outputs": [
    {
     "name": "stdout",
     "output_type": "stream",
     "text": [
      "scatter-demo already exists...\n",
      "Overwrite ? (\"o\")\n",
      "Skip ? (\"s\")\n",
      "Save copy with date ? (\"d\")\n",
      "To automatically choose one of these options edit \"fig_overwrite\" argument in utils.save_figure_with_tags\n",
      "Adding date to fig name to remove conflict...\n",
      "Inserting info into svg file\n"
     ]
    },
    {
     "data": {
      "text/plain": [
       "{'name': 'scatter-demo_2023-05-24_16-46-34',\n",
       " 'date': '2023-05-24_16-46-34',\n",
       " 'path': '/data1/projects/dumoulinlab/Lab_members/Marcus/programs/figure_finder/scatter-demo_2023-05-24_16-46-34',\n",
       " 'tags': ['2023-05-24_16-46-34',\n",
       "  '1.0',\n",
       "  '0.0',\n",
       "  'Something',\n",
       "  'scatter-demo_2023-05-24_16-46-34',\n",
       "  'sub01',\n",
       "  'bloop',\n",
       "  '0.4',\n",
       "  'Comparing',\n",
       "  'interesting',\n",
       "  '0.2',\n",
       "  '0.6',\n",
       "  '0.8',\n",
       "  '2023-05-24T16:46:35.792799',\n",
       "  'bleep',\n",
       "  'optional-tags',\n",
       "  'text',\n",
       "  'else'],\n",
       " 'cwd': '/data1/projects/dumoulinlab/Lab_members/Marcus/programs/figure_finder',\n",
       " 'nb_path': '/data1/projects/dumoulinlab/Lab_members/Marcus/programs/figure_finder/example.ipynb'}"
      ]
     },
     "execution_count": 114,
     "metadata": {},
     "output_type": "execute_result"
    },
    {
     "data": {
      "image/png": "[encoded data removed]",
      "text/plain": [
       "<Figure size 432x288 with 1 Axes>"
      ]
     },
     "metadata": {
      "needs_background": "light"
     },
     "output_type": "display_data"
    }
   ],
   "source": [
    "# scatter demo \n",
    "x = np.random.random(100)\n",
    "y = np.random.random(100)\n",
    "plt.scatter(x,y, label='sub01')\n",
    "plt.xlabel('bloop')\n",
    "plt.ylabel('bleep')\n",
    "plt.title('Comparing ')\n",
    "plt.text(1,.5, 'interesting text')\n",
    "plt.legend()\n",
    "fig = plt.gcf()\n",
    "fig.suptitle('Something else')\n",
    "\n",
    "\n",
    "# Now we can save the figure in the fig_dump folder\n",
    "# >> we can specify the name of the file (or ff will extract the title from the figure). \n",
    "# We can also specify the tags we want to save with this fig. ff will automatically find *any* text in the fig (legend, axes, text) and \n",
    "# scrape these to include in the tags (so don't worry too much)\n",
    "# Figure name & the date will also be saved as tags\n",
    "# >> First we will save this to our local folder \n",
    "ff.FIG_save_fig_and_code_as_svg(fig, fig_name='scatter-demo', fig_tags=['optional-tags'], save_folder=os.getcwd())\n"
   ]
  },
  {
   "attachments": {},
   "cell_type": "markdown",
   "metadata": {},
   "source": [
    "Now check open the SVG file (scatter-demo.svg) using a text editor - you should be able to see all the extra information has been added\n",
    "Look under \n",
    "\n",
    "*********** START - info inserted by figure finder ********\n",
    "\n",
    "The text file also contains the code from the cell which made this figure"
   ]
  },
  {
   "cell_type": "code",
   "execution_count": 117,
   "metadata": {},
   "outputs": [
    {
     "name": "stdout",
     "output_type": "stream",
     "text": [
      "line-demo already exists...\n",
      "Overwrite ? (\"o\")\n",
      "Skip ? (\"s\")\n",
      "Save copy with date ? (\"d\")\n",
      "To automatically choose one of these options edit \"fig_overwrite\" argument in utils.save_figure_with_tags\n",
      "Adding date to fig name to remove conflict...\n",
      "Inserting info into svg file\n"
     ]
    },
    {
     "data": {
      "text/plain": [
       "{'name': 'line-demo_2023-05-24_16-47-09',\n",
       " 'date': '2023-05-24_16-47-09',\n",
       " 'path': '/data1/projects/dumoulinlab/Lab_members/Marcus/programs/figure_dump/line-demo_2023-05-24_16-47-09',\n",
       " 'tags': ['1.0',\n",
       "  '2023-05-24_16-47-09',\n",
       "  'Something',\n",
       "  'line-demo_2023-05-24_16-47-09',\n",
       "  'text',\n",
       "  'sub02',\n",
       "  'tick',\n",
       "  '0.4',\n",
       "  '2023-05-24T16:47:10.982025',\n",
       "  'interesting',\n",
       "  'here',\n",
       "  '0.2',\n",
       "  '0.6',\n",
       "  '0.8',\n",
       "  '0.0',\n",
       "  'tock',\n",
       "  'else'],\n",
       " 'cwd': '/data1/projects/dumoulinlab/Lab_members/Marcus/programs/figure_finder',\n",
       " 'nb_path': '/data1/projects/dumoulinlab/Lab_members/Marcus/programs/figure_finder/example.ipynb'}"
      ]
     },
     "execution_count": 117,
     "metadata": {},
     "output_type": "execute_result"
    },
    {
     "data": {
      "image/png": "[encoded data removed]",
      "text/plain": [
       "<Figure size 432x288 with 1 Axes>"
      ]
     },
     "metadata": {
      "needs_background": "light"
     },
     "output_type": "display_data"
    }
   ],
   "source": [
    "# Now lets save another figure.\n",
    "\n",
    "# Make line demo \n",
    "x = np.linspace(0,1, 100)\n",
    "y = np.random.random(100)\n",
    "plt.plot(x,y, label='sub02')\n",
    "plt.xlabel('tick')\n",
    "plt.ylabel('tock')\n",
    "plt.title('here ')\n",
    "plt.text(1,.5, 'interesting text')\n",
    "plt.legend()\n",
    "fig = plt.gcf()\n",
    "fig.suptitle('Something else')\n",
    "\n",
    "ff.FIG_save_fig_and_code_as_svg(fig, fig_name='line-demo')\n",
    "# This time we haven't specified where the figure is going -> so it will be put in the figure dump folder...\n"
   ]
  },
  {
   "attachments": {},
   "cell_type": "markdown",
   "metadata": {},
   "source": [
    "# Database functions \n",
    "## We now have 2 figures which have been saved using figure_finder. We can access them in the csv database (stored in figure_dump)\n"
   ]
  },
  {
   "cell_type": "code",
   "execution_count": 139,
   "metadata": {},
   "outputs": [
    {
     "data": {
      "text/html": [
       "<div>\n",
       "<style scoped>\n",
       "    .dataframe tbody tr th:only-of-type {\n",
       "        vertical-align: middle;\n",
       "    }\n",
       "\n",
       "    .dataframe tbody tr th {\n",
       "        vertical-align: top;\n",
       "    }\n",
       "\n",
       "    .dataframe thead th {\n",
       "        text-align: right;\n",
       "    }\n",
       "</style>\n",
       "<table border=\"1\" class=\"dataframe\">\n",
       "  <thead>\n",
       "    <tr style=\"text-align: right;\">\n",
       "      <th></th>\n",
       "      <th>name</th>\n",
       "      <th>date</th>\n",
       "      <th>path</th>\n",
       "      <th>tags</th>\n",
       "      <th>cwd</th>\n",
       "      <th>nb_path</th>\n",
       "    </tr>\n",
       "  </thead>\n",
       "  <tbody>\n",
       "    <tr>\n",
       "      <th>0</th>\n",
       "      <td>line-demo_2023-05-24_16-47-09</td>\n",
       "      <td>2023-05-24_16-47-09</td>\n",
       "      <td>/data1/projects/dumoulinlab/Lab_members/Marcus...</td>\n",
       "      <td>[1.0, 2023-05-24_16-47-09, Something, line-dem...</td>\n",
       "      <td>/data1/projects/dumoulinlab/Lab_members/Marcus...</td>\n",
       "      <td>/data1/projects/dumoulinlab/Lab_members/Marcus...</td>\n",
       "    </tr>\n",
       "    <tr>\n",
       "      <th>1</th>\n",
       "      <td>XOiunr_fig000_Something_else</td>\n",
       "      <td>2023-05-24_15-48-43</td>\n",
       "      <td>/data1/projects/dumoulinlab/Lab_members/Marcus...</td>\n",
       "      <td>[1.0, 2023-05-24_15-48-43, 0.0, Something, 0.8...</td>\n",
       "      <td>/data1/projects/dumoulinlab/Lab_members/Marcus...</td>\n",
       "      <td>/data1/projects/dumoulinlab/Lab_members/Marcus...</td>\n",
       "    </tr>\n",
       "  </tbody>\n",
       "</table>\n",
       "</div>"
      ],
      "text/plain": [
       "                            name                 date  \\\n",
       "0  line-demo_2023-05-24_16-47-09  2023-05-24_16-47-09   \n",
       "1   XOiunr_fig000_Something_else  2023-05-24_15-48-43   \n",
       "\n",
       "                                                path  \\\n",
       "0  /data1/projects/dumoulinlab/Lab_members/Marcus...   \n",
       "1  /data1/projects/dumoulinlab/Lab_members/Marcus...   \n",
       "\n",
       "                                                tags  \\\n",
       "0  [1.0, 2023-05-24_16-47-09, Something, line-dem...   \n",
       "1  [1.0, 2023-05-24_15-48-43, 0.0, Something, 0.8...   \n",
       "\n",
       "                                                 cwd  \\\n",
       "0  /data1/projects/dumoulinlab/Lab_members/Marcus...   \n",
       "1  /data1/projects/dumoulinlab/Lab_members/Marcus...   \n",
       "\n",
       "                                             nb_path  \n",
       "0  /data1/projects/dumoulinlab/Lab_members/Marcus...  \n",
       "1  /data1/projects/dumoulinlab/Lab_members/Marcus...  "
      ]
     },
     "execution_count": 139,
     "metadata": {},
     "output_type": "execute_result"
    }
   ],
   "source": [
    "# Figure database is a csv folder inside the figure dump folder\n",
    "# > we can load this and look at the entries\n",
    "fig_db = ff.FIG_load_figure_db()\n",
    "fig_name_list = fig_db.name.copy()\n",
    "fig_db['path'][1]\n",
    "fig_db\n",
    "# for i, this_fig in enumerate(fig_name_list):\n",
    "#     print(this_fig)\n",
    "\n",
    "# bb = [0,2]\n",
    "# z = fig_db.loc[bb].copy()\n"
   ]
  },
  {
   "cell_type": "code",
   "execution_count": 140,
   "metadata": {},
   "outputs": [
    {
     "name": "stdout",
     "output_type": "stream",
     "text": [
      "fig name not specified, looking at all figs\n",
      "Found 2 files match\n",
      "line-demo_2023-05-24_16-47-09\n",
      "XOiunr_fig000_Something_else\n",
      "Found 2 files match\n",
      "Do you want to delete ALL OF them? (y/n)\n",
      "Are you absolutely sure? (y/n)\n"
     ]
    }
   ],
   "source": [
    "ff.FIG_remove_fig_with_tags('')"
   ]
  },
  {
   "cell_type": "code",
   "execution_count": 138,
   "metadata": {},
   "outputs": [],
   "source": [
    "ff.FIG_clean_csv()"
   ]
  },
  {
   "attachments": {},
   "cell_type": "markdown",
   "metadata": {},
   "source": [
    "fig_db is a list of dictionaries, with each entry in the list corresponding to a particular figure\n",
    "Each figure has the:\n",
    "* 'date' : date that fig was saved\n",
    "* 'name' : name of the file\n",
    "* 'path' : path to the fig (.png file)\n",
    "* 'tags' : tags - those extracted from the fig, also those which the user specified before hand. these can be used to search for your figures, (both inclusive & exclusive)\n",
    "* 'cwd' : the directory where the fig was generated \n",
    "* 'nb_path' : the notebook where the figure was generated\n",
    "\n"
   ]
  },
  {
   "cell_type": "code",
   "execution_count": 14,
   "metadata": {},
   "outputs": [
    {
     "name": "stdout",
     "output_type": "stream",
     "text": [
      "['1.0', '2023-05-24_15-48-43', '0.0', 'Something', '0.8', 'sub01', 'bloop', '0.4', 'Comparing', 'interesting', '0.2', '2023-05-24T15:48:43.424444', 'eg_report', '0.6', 'bleep', 'XOiunr_fig000_Something_else', 'text', 'else']\n"
     ]
    }
   ],
   "source": [
    "# You can see that all the text in the figure has been extracted and saved as tags...\n",
    "print(fig_db[0]['tags'])\n",
    "# We can use these tags to search for the figure"
   ]
  },
  {
   "cell_type": "code",
   "execution_count": 6,
   "metadata": {},
   "outputs": [
    {
     "name": "stdout",
     "output_type": "stream",
     "text": [
      "fig name not specified, looking at all figs\n",
      "Found 2 matching figures...\n"
     ]
    }
   ],
   "source": [
    "# Now a demo search for a figure...\n",
    "# both figures had the text \"interesting text\" - so if we search for this 2 entries come up\n",
    "match_fig = ff.find_fig_with_tags(['interesting'])\n",
    "print(f'Found {len(match_fig)} matching figures...')"
   ]
  },
  {
   "cell_type": "code",
   "execution_count": 48,
   "metadata": {},
   "outputs": [],
   "source": [
    "opj = os.path.join\n",
    "figure_dump = os.environ['FIG_DUMP']\n",
    "fig_tag_file = opj(figure_dump, 'fig_tag_file.csv') # path to figure data base\n",
    "figure_dump_bin = opj(figure_dump, 'recycle_bin')   # path to bin - this is where deleted files will be backed up\n",
    "\n",
    "import pandas as pd\n",
    "\n",
    "a = pd.read_csv(fig_tag_file).to_dict('index')\n",
    "b = pd.read_csv(fig_tag_file)\n"
   ]
  },
  {
   "cell_type": "code",
   "execution_count": 51,
   "metadata": {},
   "outputs": [
    {
     "data": {
      "text/plain": [
       "\"['1.0', '2023-05-24_15-48-43', '0.0', 'Something', '0.8', 'sub01', 'bloop', '0.4', 'Comparing', 'interesting', '0.2', '2023-05-24T15:48:43.424444', 'eg_report', '0.6', 'bleep', 'XOiunr_fig000_Something_else', 'text', 'else']\""
      ]
     },
     "execution_count": 51,
     "metadata": {},
     "output_type": "execute_result"
    }
   ],
   "source": [
    "b['tags'][0]"
   ]
  },
  {
   "cell_type": "code",
   "execution_count": 45,
   "metadata": {},
   "outputs": [
    {
     "data": {
      "text/html": [
       "<div>\n",
       "<style scoped>\n",
       "    .dataframe tbody tr th:only-of-type {\n",
       "        vertical-align: middle;\n",
       "    }\n",
       "\n",
       "    .dataframe tbody tr th {\n",
       "        vertical-align: top;\n",
       "    }\n",
       "\n",
       "    .dataframe thead th {\n",
       "        text-align: right;\n",
       "    }\n",
       "</style>\n",
       "<table border=\"1\" class=\"dataframe\">\n",
       "  <thead>\n",
       "    <tr style=\"text-align: right;\">\n",
       "      <th></th>\n",
       "      <th>name</th>\n",
       "      <th>date</th>\n",
       "      <th>path</th>\n",
       "      <th>tags</th>\n",
       "      <th>cwd</th>\n",
       "      <th>nb_path</th>\n",
       "    </tr>\n",
       "  </thead>\n",
       "  <tbody>\n",
       "    <tr>\n",
       "      <th>0</th>\n",
       "      <td>XOiunr_fig000_Something_else</td>\n",
       "      <td>2023-05-24_15-48-43</td>\n",
       "      <td>/data1/projects/dumoulinlab/Lab_members/Marcus...</td>\n",
       "      <td>['1.0', '2023-05-24_15-48-43', '0.0', 'Somethi...</td>\n",
       "      <td>/data1/projects/dumoulinlab/Lab_members/Marcus...</td>\n",
       "      <td>/data1/projects/dumoulinlab/Lab_members/Marcus...</td>\n",
       "    </tr>\n",
       "    <tr>\n",
       "      <th>1</th>\n",
       "      <td>line-demo</td>\n",
       "      <td>2023-05-24_15-50-23</td>\n",
       "      <td>/data1/projects/dumoulinlab/Lab_members/Marcus...</td>\n",
       "      <td>['1.0', 'Something', 'tock', 'text', 'sub02', ...</td>\n",
       "      <td>/data1/projects/dumoulinlab/Lab_members/Marcus...</td>\n",
       "      <td>/data1/projects/dumoulinlab/Lab_members/Marcus...</td>\n",
       "    </tr>\n",
       "    <tr>\n",
       "      <th>2</th>\n",
       "      <td>scatter-demo</td>\n",
       "      <td>2023-05-24_15-59-38</td>\n",
       "      <td>/data1/projects/dumoulinlab/Lab_members/Marcus...</td>\n",
       "      <td>['2023-05-24_15-59-38', '1.0', 'Something', '0...</td>\n",
       "      <td>/data1/projects/dumoulinlab/Lab_members/Marcus...</td>\n",
       "      <td>/data1/projects/dumoulinlab/Lab_members/Marcus...</td>\n",
       "    </tr>\n",
       "  </tbody>\n",
       "</table>\n",
       "</div>"
      ],
      "text/plain": [
       "                           name                 date  \\\n",
       "0  XOiunr_fig000_Something_else  2023-05-24_15-48-43   \n",
       "1                     line-demo  2023-05-24_15-50-23   \n",
       "2                  scatter-demo  2023-05-24_15-59-38   \n",
       "\n",
       "                                                path  \\\n",
       "0  /data1/projects/dumoulinlab/Lab_members/Marcus...   \n",
       "1  /data1/projects/dumoulinlab/Lab_members/Marcus...   \n",
       "2  /data1/projects/dumoulinlab/Lab_members/Marcus...   \n",
       "\n",
       "                                                tags  \\\n",
       "0  ['1.0', '2023-05-24_15-48-43', '0.0', 'Somethi...   \n",
       "1  ['1.0', 'Something', 'tock', 'text', 'sub02', ...   \n",
       "2  ['2023-05-24_15-59-38', '1.0', 'Something', '0...   \n",
       "\n",
       "                                                 cwd  \\\n",
       "0  /data1/projects/dumoulinlab/Lab_members/Marcus...   \n",
       "1  /data1/projects/dumoulinlab/Lab_members/Marcus...   \n",
       "2  /data1/projects/dumoulinlab/Lab_members/Marcus...   \n",
       "\n",
       "                                             nb_path  \n",
       "0  /data1/projects/dumoulinlab/Lab_members/Marcus...  \n",
       "1  /data1/projects/dumoulinlab/Lab_members/Marcus...  \n",
       "2  /data1/projects/dumoulinlab/Lab_members/Marcus...  "
      ]
     },
     "execution_count": 45,
     "metadata": {},
     "output_type": "execute_result"
    }
   ],
   "source": [
    "b = pd.DataFrame(a).T\n",
    "b"
   ]
  },
  {
   "cell_type": "code",
   "execution_count": 47,
   "metadata": {},
   "outputs": [
    {
     "data": {
      "text/plain": [
       "0    XOiunr_fig000_Something_else\n",
       "1                       line-demo\n",
       "2                    scatter-demo\n",
       "Name: name, dtype: object"
      ]
     },
     "execution_count": 47,
     "metadata": {},
     "output_type": "execute_result"
    }
   ],
   "source": [
    "b['name']"
   ]
  },
  {
   "cell_type": "code",
   "execution_count": 31,
   "metadata": {},
   "outputs": [
    {
     "data": {
      "text/plain": [
       "['XOiunr_fig000_Something_else', 'line-demo', 'scatter-demo']"
      ]
     },
     "execution_count": 31,
     "metadata": {},
     "output_type": "execute_result"
    }
   ],
   "source": [
    "[a['name'][i] for i in range(len(a))]"
   ]
  },
  {
   "cell_type": "code",
   "execution_count": 7,
   "metadata": {},
   "outputs": [
    {
     "name": "stdout",
     "output_type": "stream",
     "text": [
      "fig name not specified, looking at all figs\n",
      "Found 1 matching figures...\n",
      "scatter-demo\n"
     ]
    }
   ],
   "source": [
    "# we can refine the search using more tags\n",
    "match_fig = ff.find_fig_with_tags(['interesting', 'scatter'])\n",
    "print(f'Found {len(match_fig)} matching figures...')\n",
    "\n",
    "# we can see the matching figure is the scatter plot... \n",
    "print(match_fig[0]['name'])\n"
   ]
  },
  {
   "cell_type": "code",
   "execution_count": 8,
   "metadata": {},
   "outputs": [
    {
     "name": "stdout",
     "output_type": "stream",
     "text": [
      "fig name not specified, looking at all figs\n",
      "Found 1 matching figures...\n",
      "line-demo\n"
     ]
    }
   ],
   "source": [
    "# OR we can refine the search using by excluding certain tags\n",
    "match_fig = ff.find_fig_with_tags(['interesting'], exclude=['scatter'])\n",
    "print(f'Found {len(match_fig)} matching figures...')\n",
    "\n",
    "# we can see the matching figure is NOT the scatter plot... \n",
    "print(match_fig[0]['name'])\n"
   ]
  },
  {
   "attachments": {},
   "cell_type": "markdown",
   "metadata": {},
   "source": [
    "The tags can be any text which is present in the figure (or which was specified)\n",
    "It can also be the date "
   ]
  },
  {
   "cell_type": "code",
   "execution_count": 9,
   "metadata": {},
   "outputs": [
    {
     "name": "stdout",
     "output_type": "stream",
     "text": [
      "fig name not specified, looking at all figs\n",
      "Opening line-demo\n",
      "fig name not specified, looking at all figs\n",
      "Opening line-demo\n",
      "\n",
      "\n",
      "****************** START OF FIGURE CODE ******************\n",
      "**********************************************************\n",
      "# Now lets save another figure.\n",
      "\n",
      "# Make line demo \n",
      "x = np.linspace(0,1, 100)\n",
      "y = np.random.random(100)\n",
      "plt.plot(x,y, label='sub02')\n",
      "plt.xlabel('tick')\n",
      "plt.ylabel('tock')\n",
      "plt.title('here ')\n",
      "plt.text(1,.5, 'interesting text')\n",
      "plt.legend()\n",
      "fig = plt.gcf()\n",
      "fig.suptitle('Something else')\n",
      "\n",
      "ff.save_fig_and_code_as_svg(fig, fig_name='line-demo')\n",
      "# This time we haven't specified where the figure is going -> so it will be put in the figure dump folder...\n",
      "# You can also check the \n",
      "******************   END OF FIGURE CODE ******************\n",
      "**********************************************************\n",
      "\n",
      "\n"
     ]
    }
   ],
   "source": [
    "# We can find  out more about the matching figure in from the entries in the db (e.g., looking at name, date, nb_path)\n",
    "# Or we can simply load the figure, using the same search terms \n",
    "ff.show_fig_with_tags(['interesting'], exclude=['scatter'])\n",
    "\n",
    "# For more detail we can print the code which was used to generate this figure...\n",
    "ff.print_matching_code_file(['interesting'], exclude=['scatter'])"
   ]
  },
  {
   "attachments": {},
   "cell_type": "markdown",
   "metadata": {},
   "source": [
    "Note - if you try and save a figure with the same name, then it will ask you whether you want to overwrite ('o'), skip ('s') or append the date to the file name. \n",
    "You can edit the function so that it doen't ask you every time"
   ]
  },
  {
   "cell_type": "code",
   "execution_count": 10,
   "metadata": {},
   "outputs": [
    {
     "name": "stdout",
     "output_type": "stream",
     "text": [
      "line-demo already exists...\n",
      "Overwrite ? (\"o\")\n",
      "Skip ? (\"s\")\n",
      "Save copy with date ? (\"d\")\n",
      "To automatically choose one of these options edit \"fig_overwrite\" argument in utils.save_figure_with_tags\n",
      "Not saving - skipping\n"
     ]
    },
    {
     "data": {
      "image/png": "[encoded data removed]",
      "text/plain": [
       "<Figure size 432x288 with 1 Axes>"
      ]
     },
     "metadata": {
      "needs_background": "light"
     },
     "output_type": "display_data"
    }
   ],
   "source": [
    "# scatter demo \n",
    "x = np.linspace(0,1, 100)\n",
    "y = np.random.random(100)\n",
    "plt.plot(x,y, label='sub02')\n",
    "plt.xlabel('tick')\n",
    "plt.ylabel('tock')\n",
    "plt.title('here ')\n",
    "plt.text(1,.5, 'interesting text')\n",
    "plt.legend()\n",
    "fig = plt.gcf()\n",
    "fig.suptitle('Something else')\n",
    "\n",
    "ff.save_fig_and_code_as_svg(fig, fig_name='line-demo')# SAME NAME AS BEFORE...\n",
    "\n",
    "# Best practice is probably to specify a new name - but this still works...."
   ]
  },
  {
   "attachments": {},
   "cell_type": "markdown",
   "metadata": {},
   "source": [
    "You can also remove entries using the function below...\n",
    "# NOTE DO THIS AT YOUR OWN RISK -> I HAVEN'T THOROUGHLY TESTED THIS..."
   ]
  },
  {
   "cell_type": "code",
   "execution_count": null,
   "metadata": {},
   "outputs": [],
   "source": [
    "ff.remove_fig_with_tags('scatter-demo')"
   ]
  },
  {
   "cell_type": "code",
   "execution_count": null,
   "metadata": {},
   "outputs": [],
   "source": []
  }
 ],
 "metadata": {
  "kernelspec": {
   "display_name": "Python 3.9.10 ('ls_clone')",
   "language": "python",
   "name": "python3"
  },
  "language_info": {
   "codemirror_mode": {
    "name": "ipython",
    "version": 3
   },
   "file_extension": ".py",
   "mimetype": "text/x-python",
   "name": "python",
   "nbconvert_exporter": "python",
   "pygments_lexer": "ipython3",
   "version": "3.9.10"
  },
  "orig_nbformat": 4,
  "vscode": {
   "interpreter": {
    "hash": "fefbee0ec0d090ddecc6c29861c732920c34a22382341b631cd31e17c9e85bbf"
   }
  }
 },
 "nbformat": 4,
 "nbformat_minor": 2
}
