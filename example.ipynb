{
 "cells": [
  {
   "attachments": {},
   "cell_type": "markdown",
   "metadata": {},
   "source": [
    "# Demonstration of figure finder"
   ]
  },
  {
   "cell_type": "code",
   "execution_count": 66,
   "metadata": {},
   "outputs": [
    {
     "name": "stdout",
     "output_type": "stream",
     "text": [
      "The autoreload extension is already loaded. To reload it, use:\n",
      "  %reload_ext autoreload\n"
     ]
    }
   ],
   "source": [
    "%load_ext autoreload\n",
    "%autoreload 2\n",
    "%matplotlib inline\n",
    "import numpy as np\n",
    "import matplotlib.pyplot as plt\n",
    "import os\n",
    "\n"
   ]
  },
  {
   "cell_type": "code",
   "execution_count": 67,
   "metadata": {},
   "outputs": [
    {
     "name": "stdout",
     "output_type": "stream",
     "text": [
      "FOLDER ALREADY EXISTS!\n",
      "Deleting and remaking folder\n"
     ]
    }
   ],
   "source": [
    "from figure_finder.figure_saver import FigureSaver\n",
    "fig_saver = FigureSaver(\n",
    "    name='example_figure_saver',    # Name of output file\n",
    "    path='.',                       # Path to output file \n",
    "    \n",
    "    # if they already exists overwrite figures?\n",
    "    fig_ow = 'ow',  # Sets the default              \n",
    "    \n",
    "    # Save figures? \n",
    "    save_mode       = True,         \n",
    "    # Different formats to save...    \n",
    "    # Set the defaults at the beginning of the file\n",
    "    # Here only saving svg files \n",
    "    save_svg        = True,         # svg  \n",
    "    save_png        = False,        # png\n",
    "    save_pdf        = False,        # pdf (most compatible format for adobe...)\n",
    "    \n",
    "    # If the folder already exists, delete and remake it?\n",
    "    folder_ow       = True,         \n",
    ")\n",
    "\n",
    "# If you want to rerun notebook, but make some small changes you can \n",
    "# change the name = 'example_figure_saver_v001' \n",
    "# I find this a useful (albeit hacky) way to track versions"
   ]
  },
  {
   "cell_type": "markdown",
   "metadata": {},
   "source": [
    "if you just want to run the folder without saving anything (i.e., you are just testing)\n",
    "\n",
    "set \"save_mode = False\"\n"
   ]
  },
  {
   "cell_type": "code",
   "execution_count": 75,
   "metadata": {},
   "outputs": [
    {
     "data": {
      "image/png": "[encoded data removed]",
      "text/plain": [
       "<Figure size 640x480 with 1 Axes>"
      ]
     },
     "metadata": {},
     "output_type": "display_data"
    },
    {
     "name": "stdout",
     "output_type": "stream",
     "text": [
      "Inserting info into svg file\n"
     ]
    }
   ],
   "source": [
    "# Lets add a random plot\n",
    "\n",
    "x = np.random.random(100)\n",
    "y = np.random.random(100)\n",
    "plt.scatter(x,y, label='sub01')\n",
    "plt.xlabel('bloop')\n",
    "plt.ylabel('bleep')\n",
    "plt.title('Comparing ')\n",
    "plt.text(1,.5, 'interesting text')\n",
    "plt.legend()\n",
    "fig = plt.gcf()\n",
    "fig.suptitle('Something else')\n",
    "plt.show()\n",
    "fig_saver.add_img(\n",
    "    fig=fig, \n",
    "    fig_name='figure_v1',\n",
    ")\n",
    "\n",
    "# by default figure is saved in example_figure_saver/\n",
    "# as a .svg file (see save_*=  options in cell above)\n",
    "# To save other formats specify save_ options\n",
    "fig_saver.add_img(\n",
    "    fig=fig, \n",
    "    fig_name='figure_v1',\n",
    "    save_png=True, # also save a png\n",
    ")\n",
    "\n",
    "\n",
    "# We can also add context to the file metadata \n",
    "# Also creates a version with *_context* with text added to figure itself\n",
    "fig_saver.add_img(\n",
    "    fig=fig, \n",
    "    fig_name='figure_v2',\n",
    "    context_note = 'hello here is some context',\n",
    ")\n",
    "\n",
    "\n",
    "# We can specify the subfolder to put the figure into\n",
    "fig_saver.add_img(\n",
    "    fig=fig, \n",
    "    fig_name='figure_v3',\n",
    "    sub_folder='subfolder',\n",
    ")\n"
   ]
  },
  {
   "attachments": {},
   "cell_type": "markdown",
   "metadata": {},
   "source": [
    "If you've saved the svg with the code, you can see the extra information is embedded in to the svg file, as meta data...\n",
    "\n",
    "Now check open the SVG file using a text editor - you should be able to see all the extra information has been added\n",
    "Look under \n",
    "\n",
    "*********** START - info inserted by figure finder ********\n",
    "\n",
    "The text file also contains the code from the cell which made this figure"
   ]
  },
  {
   "cell_type": "code",
   "execution_count": 59,
   "metadata": {},
   "outputs": [],
   "source": [
    "# Now lets save another figure.\n",
    "\n",
    "# Make line demo \n",
    "x = np.linspace(0,1, 100)\n",
    "y = np.random.random(100)\n",
    "plt.plot(x,y, label='sub02')\n",
    "plt.xlabel('tick')\n",
    "plt.ylabel('tock')\n",
    "plt.title('here ')\n",
    "plt.text(1,.5, 'interesting text')\n",
    "plt.legend()\n",
    "fig = plt.gcf()\n",
    "fig.suptitle('Something else')\n",
    "fig_saver.add_img(\n",
    "    fig=fig, \n",
    "    fig_name='blah_figure_2',\n",
    ")\n",
    "\n",
    "# Again we save the figure...\n"
   ]
  },
  {
   "cell_type": "code",
   "execution_count": 60,
   "metadata": {},
   "outputs": [],
   "source": [
    "# Note - if we find a matching figure with the same name; it can either overwrite, skip, or write a copy with the date appended\n",
    "# fig_ow = 'ow' or 'skip' or 'date'\n",
    "\n",
    "# Make line demo \n",
    "x = np.linspace(0,1, 100)\n",
    "y = np.random.random(100)\n",
    "plt.plot(x,y, label='sub02')\n",
    "plt.xlabel('tick')\n",
    "plt.ylabel('tock')\n",
    "plt.title('here ')\n",
    "plt.text(1,.5, 'interesting text')\n",
    "plt.legend()\n",
    "fig = plt.gcf()\n",
    "fig.suptitle('Something else')\n",
    "fig_saver.add_img(\n",
    "    fig=fig, \n",
    "    fig_name='blah_figure_2',\n",
    "    fig_ow='ow', # skip? ow? date?\n",
    ")\n"
   ]
  },
  {
   "cell_type": "markdown",
   "metadata": {},
   "source": [
    "#### other useful features\n"
   ]
  },
  {
   "cell_type": "code",
   "execution_count": 61,
   "metadata": {},
   "outputs": [],
   "source": [
    "# subfolders\n",
    "fig_saver.add_img(\n",
    "    fig=fig, \n",
    "    sub_folder='blah', # put everything inside the subfolder            \n",
    ")\n"
   ]
  },
  {
   "cell_type": "code",
   "execution_count": 62,
   "metadata": {},
   "outputs": [],
   "source": [
    "# automatically get the name, if not specified\n",
    "# will look at suptitle, and titles... \n",
    "fig_saver.add_img(\n",
    "    fig=fig,     \n",
    ")\n"
   ]
  },
  {
   "cell_type": "code",
   "execution_count": 63,
   "metadata": {},
   "outputs": [],
   "source": [
    "# specify save options\n",
    "fig_saver.add_img(\n",
    "    fig=fig,     \n",
    "    save_svg=False, # ignore the initial preferences\n",
    "    save_png=True, \n",
    ")\n"
   ]
  },
  {
   "cell_type": "markdown",
   "metadata": {},
   "source": [
    "add context note \n",
    "\n",
    "sometimes you may want to add a note about how the figure was made (different parameters etc); and store that note with the image. But you don't want it to get in the way. A context note will do this by making a copy of the figure, with the context added as text"
   ]
  },
  {
   "cell_type": "code",
   "execution_count": 64,
   "metadata": {},
   "outputs": [
    {
     "name": "stdout",
     "output_type": "stream",
     "text": [
      "Inserting info into svg file\n"
     ]
    }
   ],
   "source": [
    "fig_saver.add_img(\n",
    "    fig=fig,     \n",
    "    fig_name='blah',\n",
    "    context_note='here is some context hello'\n",
    ")"
   ]
  },
  {
   "cell_type": "markdown",
   "metadata": {},
   "source": [
    "# Save the code "
   ]
  },
  {
   "cell_type": "code",
   "execution_count": 65,
   "metadata": {},
   "outputs": [],
   "source": [
    "# So you ran everyting\n"
   ]
  }
 ],
 "metadata": {
  "kernelspec": {
   "display_name": "Python 3.9.10 ('ls_clone')",
   "language": "python",
   "name": "python3"
  },
  "language_info": {
   "codemirror_mode": {
    "name": "ipython",
    "version": 3
   },
   "file_extension": ".py",
   "mimetype": "text/x-python",
   "name": "python",
   "nbconvert_exporter": "python",
   "pygments_lexer": "ipython3",
   "version": "3.9.16"
  },
  "orig_nbformat": 4,
  "vscode": {
   "interpreter": {
    "hash": "fefbee0ec0d090ddecc6c29861c732920c34a22382341b631cd31e17c9e85bbf"
   }
  }
 },
 "nbformat": 4,
 "nbformat_minor": 2
}
