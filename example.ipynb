{
 "cells": [
  {
   "cell_type": "markdown",
   "metadata": {},
   "source": [
    "## Demonstration of figure finder\n",
    "Before starting make sure that you have set the path where you want to dump all the figures (in shell/ff_setup, FIGURE_DUMP=\"your/path/here\")\n",
    "and run the setup script to install it: by running\n",
    "> bash shell/ff_setup setup\n"
   ]
  },
  {
   "cell_type": "code",
   "execution_count": 1,
   "metadata": {},
   "outputs": [
    {
     "name": "stdout",
     "output_type": "stream",
     "text": [
      "Figure finder: NO CSV FILE\n"
     ]
    }
   ],
   "source": [
    "%load_ext autoreload\n",
    "%autoreload 2\n",
    "\n",
    "import numpy as np\n",
    "import matplotlib.pyplot as plt\n",
    "import os\n",
    "import figure_finder as ff\n",
    "\n"
   ]
  },
  {
   "cell_type": "markdown",
   "metadata": {},
   "source": [
    "First - lets make some figures and save them in the figure dump folder"
   ]
  },
  {
   "cell_type": "code",
   "execution_count": 6,
   "metadata": {},
   "outputs": [
    {
     "name": "stdout",
     "output_type": "stream",
     "text": [
      "scatter-demo already exists...\n",
      "Overwrite ? (\"o\")\n",
      "Skip ? (\"s\")\n",
      "Save copy with date ? (\"d\")\n",
      "To automatically choose one of these options edit \"fig_overwrite\" argument in utils.save_figure_with_tags\n",
      "deleting scatter-demo\n"
     ]
    },
    {
     "data": {
      "image/png": "[encoded data removed]",
      "text/plain": [
       "<Figure size 432x288 with 1 Axes>"
      ]
     },
     "metadata": {
      "needs_background": "light"
     },
     "output_type": "display_data"
    }
   ],
   "source": [
    "# scatter demo \n",
    "x = np.random.random(100)\n",
    "y = np.random.random(100)\n",
    "plt.scatter(x,y, label='sub01')\n",
    "plt.xlabel('bloop')\n",
    "plt.ylabel('bleep')\n",
    "plt.title('Comparing ')\n",
    "plt.text(1,.5, 'interesting text')\n",
    "plt.legend()\n",
    "fig = plt.gcf()\n",
    "fig.suptitle('Something else')\n",
    "\n",
    "\n",
    "# Now we can save the figure in the fig_dump folder\n",
    "# >> we can specify the name of the file, or ff will \n",
    "# extract the title from the figure. \n",
    "# We can also specify the tags we want to save with this fig. ff will \n",
    "# automatically find *any* text in the fig (legend, axes, text) and \n",
    "# scrape these to include in the tags (so don't worry too much)\n",
    "# Figure name & the date will also be saved as tags\n",
    "ff.save_figure_with_tags(fig, fig_name='scatter-demo', fig_tags=['optional-tags'])\n",
    "# see the function for other options (e.g., dpi, )"
   ]
  },
  {
   "cell_type": "code",
   "execution_count": null,
   "metadata": {},
   "outputs": [],
   "source": [
    "# Make line demo \n",
    "x = np.linspace(0,1, 100)\n",
    "y = np.random.random(100)\n",
    "plt.plot(x,y, label='sub02')\n",
    "plt.xlabel('tick')\n",
    "plt.ylabel('tock')\n",
    "plt.title('here ')\n",
    "plt.text(1,.5, 'interesting text')\n",
    "plt.legend()\n",
    "fig = plt.gcf()\n",
    "fig.suptitle('Something else')\n",
    "\n",
    "ff.save_figure_with_tags(fig, fig_name='line-demo')"
   ]
  },
  {
   "cell_type": "markdown",
   "metadata": {},
   "source": [
    "Now we have 2 figures in the figure_dump folder\n",
    "Lets see how these have been recorded in the database and what we can do"
   ]
  },
  {
   "cell_type": "code",
   "execution_count": null,
   "metadata": {},
   "outputs": [],
   "source": [
    "# Figure database is a csv folder inside the figure dump folder\n",
    "# > we can load this and look at the entried\n",
    "fig_db = ff.load_figure_db()\n",
    "fig_db"
   ]
  },
  {
   "cell_type": "markdown",
   "metadata": {},
   "source": [
    "fig_db is a list of dictionaries, with each entry in the list corresponding to a particular figure\n",
    "Each figure has the:\n",
    "* 'date' : date that fig was saved\n",
    "* 'name' : name of the file\n",
    "* 'path' : path to the fig (.png file)\n",
    "* 'tags' : tags - those extracted from the fig, also those which the user specified before hand. these can be used to search for your figures, (both inclusive & exclusive)\n",
    "* 'cwd' : the directory where the fig was generated \n",
    "* 'nb_path' : the notebook where the figure was generated\n",
    "\n"
   ]
  },
  {
   "cell_type": "code",
   "execution_count": null,
   "metadata": {},
   "outputs": [],
   "source": [
    "# You can see that all the text in the figure has been extracted and saved as tags...\n",
    "print(fig_db[0]['tags'])\n",
    "# We can use these tags to search for the figure"
   ]
  },
  {
   "cell_type": "code",
   "execution_count": null,
   "metadata": {},
   "outputs": [],
   "source": [
    "# Now a demo search for a figure...\n",
    "# both figures had the text \"interesting text\" - so if we search for this 2 entries come up\n",
    "match_fig = ff.find_fig_with_tags(['interesting'])\n",
    "print(f'Found {len(match_fig)} matching figures...')"
   ]
  },
  {
   "cell_type": "code",
   "execution_count": null,
   "metadata": {},
   "outputs": [],
   "source": [
    "# we can refine the search using more tags\n",
    "match_fig = ff.find_fig_with_tags(['interesting', 'scatter'])\n",
    "print(f'Found {len(match_fig)} matching figures...')\n",
    "\n",
    "# we can see the matching figure is the scatter plot... \n",
    "print(match_fig[0]['name'])\n"
   ]
  },
  {
   "cell_type": "code",
   "execution_count": null,
   "metadata": {},
   "outputs": [],
   "source": [
    "# OR we can refine the search using by excluding certain tags\n",
    "match_fig = ff.find_fig_with_tags(['interesting'], exclude=['scatter'])\n",
    "print(f'Found {len(match_fig)} matching figures...')\n",
    "\n",
    "# we can see the matching figure is NOT the scatter plot... \n",
    "print(match_fig[0]['name'])\n"
   ]
  },
  {
   "cell_type": "markdown",
   "metadata": {},
   "source": [
    "The tags can be any text which is present in the figure (or which was specified)\n",
    "It can also be the date "
   ]
  },
  {
   "cell_type": "code",
   "execution_count": null,
   "metadata": {},
   "outputs": [],
   "source": [
    "# We can find  out more about the matching figure in from the entries in the db (e.g., looking at name, date, nb_path)\n",
    "# Or we can simply load the figure, using the same search terms \n",
    "# ff.show_fig_with_tags(['interesting'], exclude=['scatter'])\n",
    "\n",
    "# For more detail we can print the code which was used to generate this figure...\n",
    "ff.print_matching_code_file(['interesting'], exclude=['scatter'])"
   ]
  },
  {
   "cell_type": "markdown",
   "metadata": {},
   "source": [
    "Note - if you try and save a figure with the same name, then it will ask you whether you want to overwrite ('o'), skip ('s') or append the date to the file name. \n",
    "You can edit the function so that it doen't ask you every time"
   ]
  },
  {
   "cell_type": "code",
   "execution_count": null,
   "metadata": {},
   "outputs": [],
   "source": [
    "# scatter demo \n",
    "x = np.random.random(100)\n",
    "y = np.random.random(100)\n",
    "plt.scatter(x,y, label='sub01')\n",
    "plt.xlabel('bloop')\n",
    "plt.ylabel('bleep')\n",
    "plt.title('Comparing ')\n",
    "plt.text(1,.5, 'interesting text')\n",
    "plt.legend()\n",
    "fig = plt.gcf()\n",
    "fig.suptitle('Something else')\n",
    "\n",
    "ff.save_figure_with_tags(fig, fig_name='scatter-demo', fig_tags=['optional-tags']) # SAME NAME AS BEFORE...\n",
    "\n",
    "# Best practice is probably to specify a new name - but this still works...."
   ]
  },
  {
   "cell_type": "markdown",
   "metadata": {},
   "source": [
    "Finally - there is the housekeeping for the database. \n",
    "If you delete a png, then you can use ff.clean_csv(), which compares the csv database to the list of png files in the folder. If they don't match it will delete the corresponding entry\n",
    "This is automatically run on importing the toolbox (init file) \n",
    "\n",
    "You can also remove entries using the function below..."
   ]
  },
  {
   "cell_type": "code",
   "execution_count": null,
   "metadata": {},
   "outputs": [],
   "source": [
    "ff.remove_fig_with_tags('scatter-demo_2022')"
   ]
  },
  {
   "cell_type": "code",
   "execution_count": null,
   "metadata": {},
   "outputs": [],
   "source": [
    "ff.clean_csv()"
   ]
  },
  {
   "cell_type": "code",
   "execution_count": null,
   "metadata": {},
   "outputs": [],
   "source": [
    "with open('/data1/projects/dumoulinlab/Lab_members/Marcus/programs/figure_dump/scatter-demo.svg') as f:\n",
    "    this_svg = f.read()\n"
   ]
  },
  {
   "cell_type": "code",
   "execution_count": null,
   "metadata": {},
   "outputs": [],
   "source": [
    "import re\n",
    "def scrape_tags_from_svg(svg_str, fig_tags=[]):\n",
    "    # [1] Get date \n",
    "    start_date_mark = \"<dc:date>\"\n",
    "    end_date_mark = \"</dc:date>\"\n",
    "    date_result = re.search(f'{start_date_mark}(.*){end_date_mark}', svg_str)\n",
    "    \n",
    "    fig_tags += [date_result.group(1)]\n",
    "\n",
    "    start_txt_mark = \"<!--\"\n",
    "    end_txt_mark = \"-->\"\n",
    "    txt_result = re.findall(f'{start_txt_mark}(.*){end_txt_mark}', svg_str)\n",
    "    # print(txt_result.group(2))\n",
    "    return txt_result\n",
    "a = scrape_tags_from_svg(this_svg)    \n",
    "\",\".join(a)"
   ]
  },
  {
   "cell_type": "code",
   "execution_count": null,
   "metadata": {},
   "outputs": [],
   "source": [
    "svg_file = '/data1/projects/dumoulinlab/Lab_members/Marcus/programs/figure_dump/scatter-demo.svg'\n",
    "inputfile = open(svg_file, 'r').readlines()\n",
    "write_file = open(svg_file,'w')\n",
    "for line in inputfile:\n",
    "    write_file.write(line)\n",
    "    if '<metadata>' in line:\n",
    "        new_line = \"blah\"\n",
    "        write_file.write(new_line + \"\\n\") \n",
    "write_file.close()\n",
    "\n",
    "\n",
    "def save_fig_and_code_as_svg(fig, fig_dict, cell_code_str):\n",
    "    # [1] Save as svg\n",
    "    fig.savefig(fig_dict['path']+'.svg', bbox_inches='tight', format='svg')\n",
    "\n",
    "    svg_file = fig_dict['path']+'.svg'\n",
    "    # [2] Create string to add to the svg...\n",
    "    svg_insert = [\"<annotation>\"]\n",
    "    svg_insert += [\"*********** START - info inserted by figure finder ********\"]\n",
    "    svg_insert += [\"***********************************************************\"]\n",
    "    svg_insert += [\"***********************************************************\"]    \n",
    "    svg_insert += [f'DATE : {fig_dict[\"date\"]}']\n",
    "    svg_insert += [f'FIGURE NAME: {fig_dict[\"name\"]}']\n",
    "    svg_insert += [f'FIGURE CWD: {fig_dict[\"cwd\"]}']\n",
    "    svg_insert += [f'NOTEBOOK: {fig_dict[\"nb_path\"]}']\n",
    "    tag_str = ','.join(fig_dict['tags'])\n",
    "    svg_insert += [f'TAGS: {tag_str}']\n",
    "    svg_insert += [\"***********************************************************\"]    \n",
    "    svg_insert += [\"********* CODE FROM NB CELL USED TO MAKE FIG **************\"]    \n",
    "    svg_insert += [cell_code_str]\n",
    "    svg_insert += [\"***********************************************************\"]\n",
    "    svg_insert += [\"***********************************************************\"]    \n",
    "    svg_insert += [\"************* END - info inserted by figure finder ********\"]\n",
    "    svg_insert = [\"</annotation>\"]    \n",
    "    \n",
    "    svg_insert_str = '\\n'.join(svg_insert)\n",
    "    inputfile = open(svg_file, 'r').readlines()\n",
    "    write_file = open(svg_file,'w')\n",
    "    for line in inputfile:\n",
    "        write_file.write(line)\n",
    "        if '<metadata>' in line:\n",
    "            write_file.write(svg_insert_str + \"\\n\") \n",
    "\n",
    "    return\n",
    "\n",
    "# \n",
    "# function - save svg, with code, path & tags (?) "
   ]
  },
  {
   "cell_type": "code",
   "execution_count": null,
   "metadata": {},
   "outputs": [],
   "source": [
    "def save_fig_and_code_as_svg(fig, ):\n",
    "    # [1] Save as svg\n",
    "    fig.savefig(fig_dict['path']+'.svg', bbox_inches='tight', format='svg')\n",
    "\n",
    "    svg_file = fig_dict['path']+'.svg'\n",
    "    # [2] Create string to add to the svg...\n",
    "    svg_insert = [\"<text>\"]\n",
    "    svg_insert += [\"<!--\"]\n",
    "    svg_insert += [\"*********** START - info inserted by figure finder ********\"]\n",
    "    svg_insert += [\"***********************************************************\"]\n",
    "    svg_insert += [\"***********************************************************\"]    \n",
    "    svg_insert += [f'DATE : {fig_dict[\"date\"]}']\n",
    "    svg_insert += [f'FIGURE NAME: {fig_dict[\"name\"]}']\n",
    "    svg_insert += [f'FIGURE CWD: {fig_dict[\"cwd\"]}']\n",
    "    svg_insert += [f'NOTEBOOK: {fig_dict[\"nb_path\"]}']\n",
    "    tag_str = ','.join(fig_dict['tags'])\n",
    "    svg_insert += [f'TAGS: {tag_str}']\n",
    "    svg_insert += [\"***********************************************************\"]    \n",
    "    svg_insert += [\"********* CODE FROM NB CELL USED TO MAKE FIG **************\"]    \n",
    "    svg_insert += [cell_code_str]\n",
    "    svg_insert += [\"***********************************************************\"]\n",
    "    svg_insert += [\"***********************************************************\"]    \n",
    "    svg_insert += [\"************* END - info inserted by figure finder ********\"]\n",
    "    svg_insert += [\"-->\"]\n",
    "    svg_insert += [\"</text>\"]    \n",
    "    \n",
    "    svg_insert_str = '\\n'.join(svg_insert)\n",
    "    inputfile = open(svg_file, 'r').readlines()\n",
    "    write_file = open(svg_file,'w')\n",
    "    for line in inputfile:\n",
    "        write_file.write(line)\n",
    "        if '<metadata>' in line:\n",
    "            write_file.write(svg_insert_str + \"\\n\") \n",
    "\n",
    "    return"
   ]
  },
  {
   "cell_type": "code",
   "execution_count": null,
   "metadata": {},
   "outputs": [],
   "source": [
    "def save_fig_and_code_as_svg(fig, fig_tags=[], fig_name='', save_folder=figure_dump, **kwargs):\n",
    "    # GET PARAMETERS....\n",
    "    # dpi = kwargs.get(\"dpi\", 70)    \n",
    "    save_folder = kwargs.get(\"save_folder\", figure_dump)    \n",
    "    extract_tags = kwargs.get(\"extract_tags\", True)\n",
    "    proj = kwargs.get(\"proj\", None)\n",
    "    save_cwd = kwargs.get(\"save_cwd\", True)\n",
    "    save_cell_code = kwargs.get(\"save_cell_code\", True)\n",
    "    save_nb_path = kwargs.get(\"save_nb_path\", True)\n",
    "    fig_overwrite = kwargs.get(\"fig_overwrite\", None) ### *** CHANGE THIS TO AUTOMATICALLY OVERWRITE OR NOT...***\n",
    "    if not os.path.exists(save_folder):\n",
    "        os.mkdir(save_folder)\n",
    "    #\n",
    "    if proj==None:\n",
    "        proj_str = ''\n",
    "    else:\n",
    "        proj_str = f'proj-{proj}'\n",
    "    fig_date = datetime.now().strftime('%Y-%m-%d_%H-%M-%S')\n",
    "    fig_name = get_figure_name(fig, fig_name, fig_date=fig_date)\n",
    "    # *** CHECK WHETHER THE FILE ALREADY EXISTS ***\n",
    "    files_in_directory = sorted(os.listdir(figure_dump))\n",
    "    if (fig_name+'.svg' in files_in_directory) or (fig_name+'.png' in files_in_directory):\n",
    "        print(f'{fig_name} already exists...')\n",
    "        if fig_overwrite!=None:\n",
    "            save_instruction=fig_overwrite\n",
    "        else:\n",
    "            print('Overwrite ? (\"o\")')\n",
    "            print('Skip ? (\"s\")')\n",
    "            print('Save copy with date ? (\"d\")')\n",
    "            print('To automatically choose one of these options edit \"fig_overwrite\" argument in utils.save_figure_with_tags')\n",
    "            save_instruction = input()\n",
    "        if save_instruction==\"o\":\n",
    "            # Overwrite - > delete the old version\n",
    "            remove_csv_entries(fig_name)\n",
    "        elif save_instruction==\"s\":\n",
    "            # SKIPPING\n",
    "            print('Not saving - skipping')\n",
    "            return\n",
    "        elif save_instruction==\"d\":\n",
    "            print('Adding date to fig name to remove conflict...')\n",
    "            fig_name = fig_name + '_' + fig_date\n",
    "\n",
    "    if extract_tags:\n",
    "        fig_tags = scrape_tags_from_figure(fig, fig_tags=fig_tags)\n",
    "    \n",
    "    fig_path = opj(save_folder, f'{proj_str}{fig_name}')\n",
    "    # Add figure name & date to tags...\n",
    "    fig_tags += [fig_name]\n",
    "    fig_tags += [fig_date]\n",
    "    # get them from the figure\n",
    "\n",
    "\n",
    "    if save_cwd:\n",
    "        fig_cwd = os.getcwd()\n",
    "    else:\n",
    "        fig_cwd = ''\n",
    "\n",
    "    if save_nb_path:\n",
    "        # Comes in complex string form...\n",
    "        notebook_path = get_ipython().get_parent()['metadata']['cellId']\n",
    "        # e.g., 'vscode-notebook-cell:/data1/projects/dumoulinlab/Lab_members/Marcus/programs/figure_finder/example.ipynb#ch0000031'\n",
    "        # So need to format it so that it is nice...\n",
    "        notebook_path = notebook_path.split('cell:')[-1]        \n",
    "        notebook_path = notebook_path.split('.ipynb')[0] + '.ipynb'\n",
    "    else:\n",
    "        notebook_path = ''\n",
    "\n",
    "    if save_cell_code:\n",
    "        # Get the code from the cell that we are saving in...\n",
    "        cell_code_str = get_ipython().get_parent()['content']['code']\n",
    "        cell_code_path = fig_path + '.txt'\n",
    "        text_file = open(cell_code_path, \"w\")\n",
    "        text_file.write(cell_code_str)\n",
    "        text_file.close()        \n",
    "        \n",
    "    this_db_entry = {\n",
    "        'name' : fig_name,\n",
    "        'date' : fig_date,\n",
    "        'path' : fig_path,\n",
    "        'tags' : fig_tags,\n",
    "        'cwd' : fig_cwd,\n",
    "        'nb_path' : notebook_path,        \n",
    "    }\n",
    "    # Now save as an svg -> including all the \n",
    "    save_fig_and_code_as_svg(fig, fig_dict=this_db_entry, cell_code_str=cell_code_str)\n",
    "    # Load csv...\n",
    "    figure_db = load_figure_db()\n",
    "    figure_db += [{\n",
    "        'name' : fig_name,\n",
    "        'date' : fig_date,\n",
    "        'path' : fig_path,\n",
    "        'tags' : fig_tags,\n",
    "        'cwd' : fig_cwd,\n",
    "        'nb_path' : notebook_path,\n",
    "    }]\n",
    "    save_figure_db(figure_db)\n",
    "\n",
    "    return\n"
   ]
  }
 ],
 "metadata": {
  "interpreter": {
   "hash": "8c61a38b7a5d830f26e37536e487ae1705e649085f6f93a25974266be385198b"
  },
  "kernelspec": {
   "display_name": "Python 3.8.13 ('mpl_clone')",
   "language": "python",
   "name": "python3"
  },
  "language_info": {
   "codemirror_mode": {
    "name": "ipython",
    "version": 3
   },
   "file_extension": ".py",
   "mimetype": "text/x-python",
   "name": "python",
   "nbconvert_exporter": "python",
   "pygments_lexer": "ipython3",
   "version": "3.8.13"
  },
  "orig_nbformat": 4
 },
 "nbformat": 4,
 "nbformat_minor": 2
}
